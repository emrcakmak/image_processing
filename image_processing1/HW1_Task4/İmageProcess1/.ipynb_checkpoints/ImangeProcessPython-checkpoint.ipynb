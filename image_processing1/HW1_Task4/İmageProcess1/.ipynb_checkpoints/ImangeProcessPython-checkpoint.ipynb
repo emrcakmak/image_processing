{
 "cells": [
  {
   "cell_type": "code",
   "execution_count": 13,
   "id": "3b436700",
   "metadata": {},
   "outputs": [],
   "source": [
    "from PIL import Image,ImageFilter\n",
    "import os"
   ]
  },
  {
   "cell_type": "code",
   "execution_count": 18,
   "id": "0953bb7f",
   "metadata": {},
   "outputs": [],
   "source": [
    "size_100x50=(100,50)\n",
    "image1=Image.open('blobs.png')\n",
    "image1.show()\n",
    "image1.save('_blobs.jpg')\n",
    "image1.rotate(90).save('__blobs.png')\n",
    "image2=Image.open('lighthouse.png')\n",
    "image2.convert(mode='L').save('__mode_lighthouse.png')\n",
    "image2.filter(ImageFilter.GaussianBlur(15)).save('__Blur_lighthouse.png')\n",
    "image1.thumbnail(size_450)\n",
    "image1.show()"
   ]
  },
  {
   "cell_type": "code",
   "execution_count": null,
   "id": "b0965812",
   "metadata": {},
   "outputs": [],
   "source": []
  }
 ],
 "metadata": {
  "kernelspec": {
   "display_name": "Python 3",
   "language": "python",
   "name": "python3"
  },
  "language_info": {
   "codemirror_mode": {
    "name": "ipython",
    "version": 3
   },
   "file_extension": ".py",
   "mimetype": "text/x-python",
   "name": "python",
   "nbconvert_exporter": "python",
   "pygments_lexer": "ipython3",
   "version": "3.8.8"
  }
 },
 "nbformat": 4,
 "nbformat_minor": 5
}
